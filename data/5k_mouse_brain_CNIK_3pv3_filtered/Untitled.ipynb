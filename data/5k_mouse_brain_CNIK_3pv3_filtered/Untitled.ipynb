{
 "cells": [
  {
   "cell_type": "code",
   "execution_count": 6,
   "id": "1040c178",
   "metadata": {},
   "outputs": [
    {
     "name": "stderr",
     "output_type": "stream",
     "text": [
      "Warning message in asMethod(object):\n",
      "\"sparse->dense coercion: allocating vector of size 1.8 GiB\"\n",
      "Warning message in asMethod(object):\n",
      "\"sparse->dense coercion: allocating vector of size 1.8 GiB\"\n",
      "Setting SC3 parameters...\n",
      "\n",
      "Your dataset contains more than 2000 cells. Adjusting the nstart parameter of kmeans to 50 for faster performance...\n",
      "\n",
      "Defining training cells for SVM using 5000 random cells...\n",
      "\n",
      "Calculating distances between the cells...\n",
      "\n",
      "Performing transformations and calculating eigenvectors...\n",
      "\n",
      "Performing k-means clustering...\n",
      "\n"
     ]
    },
    {
     "name": "stdout",
     "output_type": "stream",
     "text": [
      "\n"
     ]
    },
    {
     "name": "stderr",
     "output_type": "stream",
     "text": [
      "Calculating consensus matrix...\n",
      "\n",
      "Calculating biology...\n",
      "\n"
     ]
    },
    {
     "ename": "ERROR",
     "evalue": "Error in checkForRemoteErrors(val): 3 nodes produced errors; first error: Error in `[.default`(clusts, , paste0(\"sc3_\", hash.table[i, 1], \"_clusters\")) : \n  量度数目不对\n\n",
     "output_type": "error",
     "traceback": [
      "Error in checkForRemoteErrors(val): 3 nodes produced errors; first error: Error in `[.default`(clusts, , paste0(\"sc3_\", hash.table[i, 1], \"_clusters\")) : \n  量度数目不对\n\nTraceback:\n",
      "1. sc3(sce, ks = 11, biology = TRUE)",
      "2. sc3(sce, ks = 11, biology = TRUE)",
      "3. sc3_calc_biology(object, ks)",
      "4. sc3_calc_biology(object, ks)",
      "5. foreach::foreach(i = 1:nrow(hash.table)) %dorng% {\n .     try({\n .         get_biolgy(dataset, clusts[, paste0(\"sc3_\", hash.table[i, \n .             1], \"_clusters\")], hash.table[i, 2])\n .     })\n . }",
      "6. do.call(`%dopar%`, list(obj, ex), envir = parent.frame())",
      "7. (function (obj, ex) \n . {\n .     e <- getDoPar()\n .     e$fun(obj, substitute(ex), parent.frame(), e$data)\n . })(structure(list(args = (1:nrow(hash.table))(.doRNG.stream = list(\n .     c(10407L, -1038961209L, 301837148L, -181279571L, -969021558L, \n .     -874615933L, -132858136L), c(10407L, -1717989510L, -637185690L, \n .     -611173186L, -1608158486L, -2019237303L, -883505960L), c(10407L, \n .     -227421085L, 1571890997L, -1816963132L, -1996947829L, -1398890023L, \n .     1632669527L))), argnames = c(\"i\", \".doRNG.stream\"), evalenv = <environment>, \n .     specified = character(0), combineInfo = list(fun = function (a, \n .         ...) \n .     c(a, list(...)), in.order = TRUE, has.init = TRUE, init = list(), \n .         final = NULL, multi.combine = TRUE, max.combine = 100), \n .     errorHandling = \"stop\", packages = \"doRNG\", export = NULL, \n .     noexport = NULL, options = list(), verbose = FALSE), class = \"foreach\"), \n .     {\n .         {\n .             rngtools::RNGseed(.doRNG.stream)\n .         }\n .         {\n .             try({\n .                 get_biolgy(dataset, clusts[, paste0(\"sc3_\", hash.table[i, \n .                   1], \"_clusters\")], hash.table[i, 2])\n .             })\n .         }\n .     })",
      "8. e$fun(obj, substitute(ex), parent.frame(), e$data)",
      "9. clusterApplyLB(cl, argsList, evalWrapper)",
      "10. dynamicClusterApply(cl, fun, length(x), argfun)",
      "11. checkForRemoteErrors(val)",
      "12. stop(count, \" nodes produced errors; first error: \", firstmsg, \n  .     domain = NA)"
     ]
    }
   ],
   "source": [
    "library(Seurat)\n",
    "data <-Read10X(data.dir=\"./filtered_feature_bc_matrix\")\n",
    "hm <- CreateSeuratObject(counts =data, project = \"hm\")\n",
    "rm(data)\n",
    "library(SC3)\n",
    "library(scater)\n",
    "library(SingleCellExperiment)\n",
    "sce <- SingleCellExperiment(\n",
    "    assays = list(\n",
    "        counts = as.matrix(hm[[\"RNA\"]]@counts),\n",
    "        logcounts = log2(as.matrix(hm[[\"RNA\"]]@counts) + 1)\n",
    "    )\n",
    ")\n",
    "rm(hm)\n",
    "rowData(sce)$feature_symbol =rownames(sce)\n",
    "sce <- sce[!duplicated(rowData(sce)$feature_symbol), ]\n",
    "sce <- runPCA(sce)\n",
    "sce <- sc3(sce, ks = 11, biology = TRUE)\n",
    "saveRDS(sce, file = \"SC3.rds\")"
   ]
  },
  {
   "cell_type": "code",
   "execution_count": null,
   "id": "eed4186a",
   "metadata": {},
   "outputs": [],
   "source": [
    "sce1 <- SingleCellExperiment(\n",
    "    assays = list(\n",
    "        counts = as.matrix(yan),\n",
    "        logcounts = log2(as.matrix(yan) + 1)\n",
    "    ), \n",
    "    colData = ann\n",
    ")\n",
    "\n",
    "# define feature names in feature_symbol column\n",
    "rowData(sce)$feature_symbol <- rownames(sce)\n",
    "# remove features with duplicated names\n",
    "sce <- sce[!duplicated(rowData(sce)$feature_symbol), ]"
   ]
  }
 ],
 "metadata": {
  "kernelspec": {
   "display_name": "R",
   "language": "R",
   "name": "ir"
  },
  "language_info": {
   "codemirror_mode": "r",
   "file_extension": ".r",
   "mimetype": "text/x-r-source",
   "name": "R",
   "pygments_lexer": "r",
   "version": "4.1.2"
  }
 },
 "nbformat": 4,
 "nbformat_minor": 5
}
