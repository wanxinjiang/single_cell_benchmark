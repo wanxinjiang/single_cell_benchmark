{
 "cells": [
  {
   "cell_type": "code",
   "execution_count": null,
   "metadata": {},
   "outputs": [],
   "source": [
    "import pandas as pd \n",
    "import numpy as np\n",
    "from sklearn.metrics.cluster import adjusted_rand_score\n",
    "from sklearn.metrics.cluster import homogeneity_score\n",
    "from sklearn.metrics.cluster import normalized_mutual_info_score\n",
    "from sklearn.metrics.cluster import silhouette_score\n",
    "import matplotlib.pyplot as plt\n",
    "import  seaborn as sns\n",
    "import random"
   ]
  },
  {
   "cell_type": "code",
   "execution_count": null,
   "metadata": {},
   "outputs": [],
   "source": [
    "standard=pd.read_csv(r\"./clusters.csv\")\n",
    "standard_Cluster=np.array(standard['Cluster'])"
   ]
  },
  {
   "cell_type": "code",
   "execution_count": null,
   "metadata": {},
   "outputs": [],
   "source": [
    "counts=pd.read_csv(\"./Seurat/counts.csv\")\n",
    "count=np.array(counts.iloc[:,1:]).T"
   ]
  },
  {
   "cell_type": "code",
   "execution_count": null,
   "metadata": {},
   "outputs": [],
   "source": [
    "def evaluate(cluster):\n",
    "    ari=''\n",
    "    h_score=''\n",
    "    nmi=''\n",
    "    s_score=''\n",
    "    #调兰德指数\n",
    "    ari=adjusted_rand_score(standard_Cluster,cluster)\n",
    "    print(\"调兰德指数:\",ari)\n",
    "    print('\\n')\n",
    "    #同质性\n",
    "    h_score=homogeneity_score(standard_Cluster,cluster)\n",
    "    print(\"同质性:\",h_score)\n",
    "    print('\\n')\n",
    "    #标准互信息素\n",
    "    nmi=normalized_mutual_info_score(standard_Cluster,cluster)\n",
    "    print(\"标准互信息素:\",nmi)\n",
    "    print('\\n')\n",
    "    #轮廓系数\n",
    "    s_score=silhouette_score(count,cluster)\n",
    "    print('轮廓系数:',s_score)\n",
    "    print('\\n')\n",
    "    return [ari,h_score,nmi,s_score]"
   ]
  },
  {
   "cell_type": "code",
   "execution_count": null,
   "metadata": {},
   "outputs": [],
   "source": [
    "Seurat=pd.read_csv(\"./Seurat/Seurat_clusterResult.csv\")"
   ]
  },
  {
   "cell_type": "code",
   "execution_count": null,
   "metadata": {},
   "outputs": [],
   "source": [
    "Seurat_cluster=np.array(Seurat[\"x\"])"
   ]
  },
  {
   "cell_type": "code",
   "execution_count": null,
   "metadata": {},
   "outputs": [],
   "source": [
    "Seurat_evaluate=evaluate(Seurat_cluster)"
   ]
  },
  {
   "cell_type": "code",
   "execution_count": null,
   "metadata": {},
   "outputs": [],
   "source": [
    "simlr=pd.read_csv('/nfs_genome1/wanxinjiang/single_cell/workspace/SIMLR/simlr_clusterResult.csv')"
   ]
  },
  {
   "cell_type": "code",
   "execution_count": null,
   "metadata": {},
   "outputs": [],
   "source": [
    "simlr_cluster=np.array(simlr[\"x\"])"
   ]
  },
  {
   "cell_type": "code",
   "execution_count": null,
   "metadata": {},
   "outputs": [],
   "source": [
    "simlr_evaluate=evaluate(simlr_cluster)"
   ]
  },
  {
   "cell_type": "code",
   "execution_count": null,
   "metadata": {},
   "outputs": [],
   "source": [
    "import anndata\n",
    "import scanpy as sc"
   ]
  },
  {
   "cell_type": "code",
   "execution_count": null,
   "metadata": {},
   "outputs": [],
   "source": [
    "scanpy=anndata.read(\"/nfs_genome1/wanxinjiang/single_cell/workspace/scanpy/results_file.h5ad\")"
   ]
  },
  {
   "cell_type": "code",
   "execution_count": null,
   "metadata": {},
   "outputs": [],
   "source": [
    "scanpy_cluster=np.array(scanpy.obs.leiden)"
   ]
  },
  {
   "cell_type": "code",
   "execution_count": null,
   "metadata": {},
   "outputs": [],
   "source": [
    "scanpy_evaluate=evaluate(scanpy_cluster)"
   ]
  },
  {
   "cell_type": "code",
   "execution_count": null,
   "metadata": {},
   "outputs": [],
   "source": [
    "import matplotlib.pyplot as plt\n",
    "\n",
    "def eval_plt(title,values,categorys):\n",
    "    \n",
    "    fig, ax = plt.subplots()\n",
    "    bar_width = -0.5  #定义柱状图每个柱的宽度\n",
    "    ax.set_xlim([bar_width/2-1, 3-bar_width/2])\n",
    "    bar_colors = ['#7199cf', '#4fc4aa', '#e1a7a2', 'orange']\n",
    "    length=len(values)\n",
    "    ax.bar(categorys, values,color=bar_colors[:length])\n",
    "    ax.set_ylabel(title)\n",
    "    plt.show()"
   ]
  },
  {
   "cell_type": "code",
   "execution_count": null,
   "metadata": {},
   "outputs": [],
   "source": [
    "ARI_values=[Seurat_evaluate[0],scanpy_evaluate[0],simlr_evaluate[0]]\n",
    "h_score_values=[Seurat_evaluate[1],scanpy_evaluate[1],simlr_evaluate[1]]\n",
    "NMI_values=[Seurat_evaluate[2],scanpy_evaluate[2],simlr_evaluate[2]]\n",
    "s_scores_values=[Seurat_evaluate[3],scanpy_evaluate[3],simlr_evaluate[3]]"
   ]
  },
  {
   "cell_type": "code",
   "execution_count": null,
   "metadata": {},
   "outputs": [],
   "source": [
    "eval_plt('ARI',ARI_values,[\"Seurat\",\"scanpy\",\"SIMLR\"])\n",
    "eval_plt('homogeneity_score',h_score_values,[\"Seurat\",\"scanpy\",\"SIMLR\"])\n",
    "eval_plt('NMI',NMI_values,[\"Seurat\",\"scanpy\",\"SIMLR\"])\n",
    "eval_plt('silhouette_score',s_scores_values,[\"Seurat\",\"scanpy\",\"SIMLR\"])"
   ]
  }
 ],
 "metadata": {
  "language_info": {
   "name": "python"
  },
  "orig_nbformat": 4
 },
 "nbformat": 4,
 "nbformat_minor": 2
}
